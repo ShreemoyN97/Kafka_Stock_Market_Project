{
 "cells": [
  {
   "cell_type": "code",
   "execution_count": 3,
   "id": "fcea2f3a",
   "metadata": {},
   "outputs": [],
   "source": [
    "from kafka import KafkaConsumer\n",
    "from time import sleep\n",
    "from json import dumps,loads\n",
    "import json\n",
    "from s3fs import S3FileSystem"
   ]
  },
  {
   "cell_type": "code",
   "execution_count": 2,
   "id": "a2be1dff",
   "metadata": {
    "scrolled": true
   },
   "outputs": [
    {
     "name": "stdout",
     "output_type": "stream",
     "text": [
      "Collecting s3fs\n",
      "  Downloading s3fs-2025.2.0-py3-none-any.whl (30 kB)\n",
      "Collecting fsspec==2025.2.0.*\n",
      "  Downloading fsspec-2025.2.0-py3-none-any.whl (184 kB)\n",
      "\u001b[2K     \u001b[90m━━━━━━━━━━━━━━━━━━━━━━━━━━━━━━━━━━━━━━━\u001b[0m \u001b[32m184.5/184.5 kB\u001b[0m \u001b[31m5.9 MB/s\u001b[0m eta \u001b[36m0:00:00\u001b[0m\n",
      "\u001b[?25hCollecting aiobotocore<3.0.0,>=2.5.4\n",
      "  Downloading aiobotocore-2.21.1-py3-none-any.whl (78 kB)\n",
      "\u001b[2K     \u001b[90m━━━━━━━━━━━━━━━━━━━━━━━━━━━━━━━━━━━━━━━━\u001b[0m \u001b[32m78.3/78.3 kB\u001b[0m \u001b[31m11.3 MB/s\u001b[0m eta \u001b[36m0:00:00\u001b[0m\n",
      "\u001b[?25hCollecting aiohttp!=4.0.0a0,!=4.0.0a1\n",
      "  Downloading aiohttp-3.11.13-cp39-cp39-macosx_10_9_x86_64.whl (469 kB)\n",
      "\u001b[2K     \u001b[90m━━━━━━━━━━━━━━━━━━━━━━━━━━━━━━━━━━━━━━\u001b[0m \u001b[32m469.3/469.3 kB\u001b[0m \u001b[31m14.1 MB/s\u001b[0m eta \u001b[36m0:00:00\u001b[0m\n",
      "\u001b[?25hRequirement already satisfied: jmespath<2.0.0,>=0.7.1 in ./opt/anaconda3/lib/python3.9/site-packages (from aiobotocore<3.0.0,>=2.5.4->s3fs) (0.10.0)\n",
      "Requirement already satisfied: wrapt<2.0.0,>=1.10.10 in ./opt/anaconda3/lib/python3.9/site-packages (from aiobotocore<3.0.0,>=2.5.4->s3fs) (1.14.1)\n",
      "Collecting aioitertools<1.0.0,>=0.5.1\n",
      "  Downloading aioitertools-0.12.0-py3-none-any.whl (24 kB)\n",
      "Collecting botocore<1.37.2,>=1.37.0\n",
      "  Downloading botocore-1.37.1-py3-none-any.whl (13.4 MB)\n",
      "\u001b[2K     \u001b[90m━━━━━━━━━━━━━━━━━━━━━━━━━━━━━━━━━━━━━━━━\u001b[0m \u001b[32m13.4/13.4 MB\u001b[0m \u001b[31m28.2 MB/s\u001b[0m eta \u001b[36m0:00:00\u001b[0m00:01\u001b[0m00:01\u001b[0m\n",
      "\u001b[?25hCollecting multidict<7.0.0,>=6.0.0\n",
      "  Downloading multidict-6.1.0-cp39-cp39-macosx_10_9_x86_64.whl (29 kB)\n",
      "Requirement already satisfied: python-dateutil<3.0.0,>=2.1 in ./opt/anaconda3/lib/python3.9/site-packages (from aiobotocore<3.0.0,>=2.5.4->s3fs) (2.8.2)\n",
      "Requirement already satisfied: attrs>=17.3.0 in ./opt/anaconda3/lib/python3.9/site-packages (from aiohttp!=4.0.0a0,!=4.0.0a1->s3fs) (21.4.0)\n",
      "Collecting propcache>=0.2.0\n",
      "  Downloading propcache-0.3.0-cp39-cp39-macosx_10_9_x86_64.whl (46 kB)\n",
      "\u001b[2K     \u001b[90m━━━━━━━━━━━━━━━━━━━━━━━━━━━━━━━━━━━━━━━━\u001b[0m \u001b[32m46.4/46.4 kB\u001b[0m \u001b[31m6.0 MB/s\u001b[0m eta \u001b[36m0:00:00\u001b[0m\n",
      "\u001b[?25hCollecting yarl<2.0,>=1.17.0\n",
      "  Downloading yarl-1.18.3-cp39-cp39-macosx_10_9_x86_64.whl (94 kB)\n",
      "\u001b[2K     \u001b[90m━━━━━━━━━━━━━━━━━━━━━━━━━━━━━━━━━━━━━━━━\u001b[0m \u001b[32m95.0/95.0 kB\u001b[0m \u001b[31m14.4 MB/s\u001b[0m eta \u001b[36m0:00:00\u001b[0m\n",
      "\u001b[?25hCollecting async-timeout<6.0,>=4.0\n",
      "  Downloading async_timeout-5.0.1-py3-none-any.whl (6.2 kB)\n",
      "Collecting aiohappyeyeballs>=2.3.0\n",
      "  Downloading aiohappyeyeballs-2.4.8-py3-none-any.whl (15 kB)\n",
      "Collecting frozenlist>=1.1.1\n",
      "  Downloading frozenlist-1.5.0-cp39-cp39-macosx_10_9_x86_64.whl (54 kB)\n",
      "\u001b[2K     \u001b[90m━━━━━━━━━━━━━━━━━━━━━━━━━━━━━━━━━━━━━━━━\u001b[0m \u001b[32m54.7/54.7 kB\u001b[0m \u001b[31m13.0 MB/s\u001b[0m eta \u001b[36m0:00:00\u001b[0m\n",
      "\u001b[?25hCollecting aiosignal>=1.1.2\n",
      "  Downloading aiosignal-1.3.2-py2.py3-none-any.whl (7.6 kB)\n",
      "Requirement already satisfied: typing_extensions>=4.0 in ./opt/anaconda3/lib/python3.9/site-packages (from aioitertools<1.0.0,>=0.5.1->aiobotocore<3.0.0,>=2.5.4->s3fs) (4.12.2)\n",
      "Requirement already satisfied: urllib3<1.27,>=1.25.4 in ./opt/anaconda3/lib/python3.9/site-packages (from botocore<1.37.2,>=1.37.0->aiobotocore<3.0.0,>=2.5.4->s3fs) (1.26.11)\n",
      "Requirement already satisfied: six>=1.5 in ./opt/anaconda3/lib/python3.9/site-packages (from python-dateutil<3.0.0,>=2.1->aiobotocore<3.0.0,>=2.5.4->s3fs) (1.16.0)\n",
      "Requirement already satisfied: idna>=2.0 in ./opt/anaconda3/lib/python3.9/site-packages (from yarl<2.0,>=1.17.0->aiohttp!=4.0.0a0,!=4.0.0a1->s3fs) (3.3)\n",
      "Installing collected packages: propcache, multidict, fsspec, frozenlist, async-timeout, aioitertools, aiohappyeyeballs, yarl, botocore, aiosignal, aiohttp, aiobotocore, s3fs\n",
      "  Attempting uninstall: fsspec\n",
      "    Found existing installation: fsspec 2022.7.1\n",
      "    Uninstalling fsspec-2022.7.1:\n",
      "      Successfully uninstalled fsspec-2022.7.1\n",
      "  Attempting uninstall: botocore\n",
      "    Found existing installation: botocore 1.27.28\n",
      "    Uninstalling botocore-1.27.28:\n",
      "      Successfully uninstalled botocore-1.27.28\n",
      "\u001b[31mERROR: pip's dependency resolver does not currently take into account all the packages that are installed. This behaviour is the source of the following dependency conflicts.\n",
      "boto3 1.24.28 requires botocore<1.28.0,>=1.27.28, but you have botocore 1.37.1 which is incompatible.\u001b[0m\u001b[31m\n",
      "\u001b[0mSuccessfully installed aiobotocore-2.21.1 aiohappyeyeballs-2.4.8 aiohttp-3.11.13 aioitertools-0.12.0 aiosignal-1.3.2 async-timeout-5.0.1 botocore-1.37.1 frozenlist-1.5.0 fsspec-2025.2.0 multidict-6.1.0 propcache-0.3.0 s3fs-2025.2.0 yarl-1.18.3\n",
      "Note: you may need to restart the kernel to use updated packages.\n"
     ]
    }
   ],
   "source": [
    "pip install s3fs\n"
   ]
  },
  {
   "cell_type": "code",
   "execution_count": 18,
   "id": "bdf60e5e",
   "metadata": {},
   "outputs": [
    {
     "ename": "NoBrokersAvailable",
     "evalue": "NoBrokersAvailable",
     "output_type": "error",
     "traceback": [
      "\u001b[0;31m---------------------------------------------------------------------------\u001b[0m",
      "\u001b[0;31mNoBrokersAvailable\u001b[0m                        Traceback (most recent call last)",
      "\u001b[0;32m/var/folders/7w/sb0wtg3941l3f1v9pk3yphkc0000gn/T/ipykernel_50487/2453793607.py\u001b[0m in \u001b[0;36m<module>\u001b[0;34m\u001b[0m\n\u001b[0;32m----> 1\u001b[0;31m consumer = KafkaConsumer(\n\u001b[0m\u001b[1;32m      2\u001b[0m     \u001b[0;34m'sn_demo_test'\u001b[0m\u001b[0;34m,\u001b[0m\u001b[0;34m\u001b[0m\u001b[0;34m\u001b[0m\u001b[0m\n\u001b[1;32m      3\u001b[0m      \u001b[0mbootstrap_servers\u001b[0m\u001b[0;34m=\u001b[0m\u001b[0;34m[\u001b[0m\u001b[0;34m'3.239.68.131:9092'\u001b[0m\u001b[0;34m]\u001b[0m\u001b[0;34m,\u001b[0m \u001b[0;31m#add your IP here\u001b[0m\u001b[0;34m\u001b[0m\u001b[0;34m\u001b[0m\u001b[0m\n\u001b[1;32m      4\u001b[0m     value_deserializer=lambda x: loads(x.decode('utf-8')))\n",
      "\u001b[0;32m~/opt/anaconda3/lib/python3.9/site-packages/kafka/consumer/group.py\u001b[0m in \u001b[0;36m__init__\u001b[0;34m(self, *topics, **configs)\u001b[0m\n\u001b[1;32m    356\u001b[0m                         str(self.config['api_version']), str_version)\n\u001b[1;32m    357\u001b[0m \u001b[0;34m\u001b[0m\u001b[0m\n\u001b[0;32m--> 358\u001b[0;31m         \u001b[0mself\u001b[0m\u001b[0;34m.\u001b[0m\u001b[0m_client\u001b[0m \u001b[0;34m=\u001b[0m \u001b[0mself\u001b[0m\u001b[0;34m.\u001b[0m\u001b[0mconfig\u001b[0m\u001b[0;34m[\u001b[0m\u001b[0;34m'kafka_client'\u001b[0m\u001b[0;34m]\u001b[0m\u001b[0;34m(\u001b[0m\u001b[0mmetrics\u001b[0m\u001b[0;34m=\u001b[0m\u001b[0mself\u001b[0m\u001b[0;34m.\u001b[0m\u001b[0m_metrics\u001b[0m\u001b[0;34m,\u001b[0m \u001b[0;34m**\u001b[0m\u001b[0mself\u001b[0m\u001b[0;34m.\u001b[0m\u001b[0mconfig\u001b[0m\u001b[0;34m)\u001b[0m\u001b[0;34m\u001b[0m\u001b[0;34m\u001b[0m\u001b[0m\n\u001b[0m\u001b[1;32m    359\u001b[0m \u001b[0;34m\u001b[0m\u001b[0m\n\u001b[1;32m    360\u001b[0m         \u001b[0;31m# Get auto-discovered version from client if necessary\u001b[0m\u001b[0;34m\u001b[0m\u001b[0;34m\u001b[0m\u001b[0m\n",
      "\u001b[0;32m~/opt/anaconda3/lib/python3.9/site-packages/kafka/client_async.py\u001b[0m in \u001b[0;36m__init__\u001b[0;34m(self, **configs)\u001b[0m\n\u001b[1;32m    238\u001b[0m         \u001b[0;31m# Check Broker Version if not set explicitly\u001b[0m\u001b[0;34m\u001b[0m\u001b[0;34m\u001b[0m\u001b[0m\n\u001b[1;32m    239\u001b[0m         \u001b[0;32mif\u001b[0m \u001b[0mself\u001b[0m\u001b[0;34m.\u001b[0m\u001b[0mconfig\u001b[0m\u001b[0;34m[\u001b[0m\u001b[0;34m'api_version'\u001b[0m\u001b[0;34m]\u001b[0m \u001b[0;32mis\u001b[0m \u001b[0;32mNone\u001b[0m\u001b[0;34m:\u001b[0m\u001b[0;34m\u001b[0m\u001b[0;34m\u001b[0m\u001b[0m\n\u001b[0;32m--> 240\u001b[0;31m             \u001b[0mself\u001b[0m\u001b[0;34m.\u001b[0m\u001b[0mconfig\u001b[0m\u001b[0;34m[\u001b[0m\u001b[0;34m'api_version'\u001b[0m\u001b[0;34m]\u001b[0m \u001b[0;34m=\u001b[0m \u001b[0mself\u001b[0m\u001b[0;34m.\u001b[0m\u001b[0mcheck_version\u001b[0m\u001b[0;34m(\u001b[0m\u001b[0;34m)\u001b[0m\u001b[0;34m\u001b[0m\u001b[0;34m\u001b[0m\u001b[0m\n\u001b[0m\u001b[1;32m    241\u001b[0m \u001b[0;34m\u001b[0m\u001b[0m\n\u001b[1;32m    242\u001b[0m     \u001b[0;32mdef\u001b[0m \u001b[0m_init_wakeup_socketpair\u001b[0m\u001b[0;34m(\u001b[0m\u001b[0mself\u001b[0m\u001b[0;34m)\u001b[0m\u001b[0;34m:\u001b[0m\u001b[0;34m\u001b[0m\u001b[0;34m\u001b[0m\u001b[0m\n",
      "\u001b[0;32m~/opt/anaconda3/lib/python3.9/site-packages/kafka/client_async.py\u001b[0m in \u001b[0;36mcheck_version\u001b[0;34m(self, node_id, timeout, strict)\u001b[0m\n\u001b[1;32m    944\u001b[0m             \u001b[0;32mif\u001b[0m \u001b[0mtry_node\u001b[0m \u001b[0;32mis\u001b[0m \u001b[0;32mNone\u001b[0m\u001b[0;34m:\u001b[0m\u001b[0;34m\u001b[0m\u001b[0;34m\u001b[0m\u001b[0m\n\u001b[1;32m    945\u001b[0m                 \u001b[0mself\u001b[0m\u001b[0;34m.\u001b[0m\u001b[0m_lock\u001b[0m\u001b[0;34m.\u001b[0m\u001b[0mrelease\u001b[0m\u001b[0;34m(\u001b[0m\u001b[0;34m)\u001b[0m\u001b[0;34m\u001b[0m\u001b[0;34m\u001b[0m\u001b[0m\n\u001b[0;32m--> 946\u001b[0;31m                 \u001b[0;32mraise\u001b[0m \u001b[0mErrors\u001b[0m\u001b[0;34m.\u001b[0m\u001b[0mNoBrokersAvailable\u001b[0m\u001b[0;34m(\u001b[0m\u001b[0;34m)\u001b[0m\u001b[0;34m\u001b[0m\u001b[0;34m\u001b[0m\u001b[0m\n\u001b[0m\u001b[1;32m    947\u001b[0m             \u001b[0;32mif\u001b[0m \u001b[0;32mnot\u001b[0m \u001b[0mself\u001b[0m\u001b[0;34m.\u001b[0m\u001b[0m_init_connect\u001b[0m\u001b[0;34m(\u001b[0m\u001b[0mtry_node\u001b[0m\u001b[0;34m)\u001b[0m\u001b[0;34m:\u001b[0m\u001b[0;34m\u001b[0m\u001b[0;34m\u001b[0m\u001b[0m\n\u001b[1;32m    948\u001b[0m                 \u001b[0;32mif\u001b[0m \u001b[0mtry_node\u001b[0m \u001b[0;34m==\u001b[0m \u001b[0mnode_id\u001b[0m\u001b[0;34m:\u001b[0m\u001b[0;34m\u001b[0m\u001b[0;34m\u001b[0m\u001b[0m\n",
      "\u001b[0;31mNoBrokersAvailable\u001b[0m: NoBrokersAvailable"
     ]
    }
   ],
   "source": [
    "consumer = KafkaConsumer(\n",
    "    'sn_demo_test',\n",
    "     bootstrap_servers=['<public ip address>'], #add your IP here\n",
    "    value_deserializer=lambda x: loads(x.decode('utf-8')))"
   ]
  },
  {
   "cell_type": "code",
   "execution_count": null,
   "id": "47827dca",
   "metadata": {
    "scrolled": true
   },
   "outputs": [],
   "source": [
    "for c in consumer:\n",
    "     print(c.value)"
   ]
  },
  {
   "cell_type": "code",
   "execution_count": 11,
   "id": "6d86dc0c",
   "metadata": {},
   "outputs": [],
   "source": [
    "s3 = S3FileSystem()"
   ]
  },
  {
   "cell_type": "code",
   "execution_count": null,
   "id": "83908477",
   "metadata": {},
   "outputs": [],
   "source": []
  },
  {
   "cell_type": "code",
   "execution_count": null,
   "id": "07f5c4aa",
   "metadata": {},
   "outputs": [
    {
     "name": "stdout",
     "output_type": "stream",
     "text": [
      "Message 0: {'name': 'Shreemoy Nanda'}\n",
      "Saved stock_market_0.json to S3\n",
      "Message 1: {'Index': 'NYA', 'Date': '1966-03-23', 'Open': 511.980011, 'High': 511.980011, 'Low': 511.980011, 'Close': 511.980011, 'Adj Close': 511.980011, 'Volume': 0.0, 'CloseUSD': 511.980011}\n",
      "Saved stock_market_1.json to S3\n",
      "Message 2: {'Index': 'HSI', 'Date': '2002-04-24', 'Open': 11362.65039, 'High': 11417.46973, 'Low': 11305.65039, 'Close': 11396.57031, 'Adj Close': 11396.57031, 'Volume': 301563200.0, 'CloseUSD': 1481.5541403}\n",
      "Saved stock_market_2.json to S3\n",
      "Message 3: {'Index': 'N225', 'Date': '2020-08-05', 'Open': 22479.7207, 'High': 22554.19922, 'Low': 22356.25, 'Close': 22514.84961, 'Adj Close': 22514.84961, 'Volume': 74000000.0, 'CloseUSD': 225.1484961}\n",
      "Saved stock_market_3.json to S3\n",
      "Message 4: {'Index': 'N225', 'Date': '2018-11-16', 'Open': 21804.90039, 'High': 21873.74023, 'Low': 21663.99023, 'Close': 21680.33984, 'Adj Close': 21680.33984, 'Volume': 74900000.0, 'CloseUSD': 216.8033984}\n",
      "Saved stock_market_4.json to S3\n",
      "Message 5: {'Index': 'N100', 'Date': '2007-10-08', 'Open': 1036.23999, 'High': 1037.869995, 'Low': 1034.329956, 'Close': 1034.719971, 'Adj Close': 1034.719971, 'Volume': 242408400.0, 'CloseUSD': 1262.35836462}\n",
      "Saved stock_market_5.json to S3\n",
      "Message 6: {'Index': 'TWII', 'Date': '2019-10-23', 'Open': 11266.17969, 'High': 11281.12012, 'Low': 11209.09961, 'Close': 11239.66992, 'Adj Close': 11239.66992, 'Volume': 2304700.0, 'CloseUSD': 449.5867968}\n",
      "Saved stock_market_6.json to S3\n",
      "Message 7: {'Index': 'N225', 'Date': '2002-10-04', 'Open': 8899.769531, 'High': 9027.549805, 'Low': 8860.650391, 'Close': 9027.549805, 'Adj Close': 9027.549805, 'Volume': 62100000.0, 'CloseUSD': 90.27549805}\n",
      "Saved stock_market_7.json to S3\n",
      "Message 8: {'Index': '399001.SZ', 'Date': '2006-07-03', 'Open': 4302.200195, 'High': 4398.379883, 'Low': 4302.200195, 'Close': 4398.379883, 'Adj Close': 4398.330566, 'Volume': 57700.0, 'CloseUSD': 703.74078128}\n",
      "Saved stock_market_8.json to S3\n",
      "Message 9: {'Index': 'HSI', 'Date': '2008-12-10', 'Open': 14946.0, 'High': 15578.95996, 'Low': 14946.0, 'Close': 15577.74023, 'Adj Close': 15577.74023, 'Volume': 2684204000.0, 'CloseUSD': 2025.1062299}\n",
      "Saved stock_market_9.json to S3\n",
      "Message 10: {'Index': 'N225', 'Date': '1967-10-16', 'Open': 1372.98999, 'High': 1372.98999, 'Low': 1372.98999, 'Close': 1372.98999, 'Adj Close': 1372.98999, 'Volume': 0.0, 'CloseUSD': 13.7298999}\n",
      "Saved stock_market_10.json to S3\n",
      "Message 11: {'Index': 'N225', 'Date': '1966-07-27', 'Open': 1486.01001, 'High': 1486.01001, 'Low': 1486.01001, 'Close': 1486.01001, 'Adj Close': 1486.01001, 'Volume': 0.0, 'CloseUSD': 14.8601001}\n",
      "Saved stock_market_11.json to S3\n",
      "Message 12: {'Index': 'HSI', 'Date': '2020-03-31', 'Open': 23613.26953, 'High': 23627.5293, 'Low': 23238.03906, 'Close': 23603.48047, 'Adj Close': 23603.48047, 'Volume': 2876326600.0, 'CloseUSD': 3068.4524611}\n",
      "Saved stock_market_12.json to S3\n",
      "Message 13: {'Index': 'HSI', 'Date': '1989-07-12', 'Open': 2477.5, 'High': 2477.5, 'Low': 2477.5, 'Close': 2477.5, 'Adj Close': 2477.5, 'Volume': 0.0, 'CloseUSD': 322.075}\n",
      "Saved stock_market_13.json to S3\n",
      "Message 14: {'Index': 'IXIC', 'Date': '2013-09-17', 'Open': 3725.310059, 'High': 3747.080078, 'Low': 3724.26001, 'Close': 3745.699951, 'Adj Close': 3745.699951, 'Volume': 1338800000.0, 'CloseUSD': 3745.699951}\n",
      "Saved stock_market_14.json to S3\n",
      "Message 15: {'Index': 'IXIC', 'Date': '2015-12-03', 'Open': 5143.160156, 'High': 5144.600098, 'Low': 5011.720215, 'Close': 5037.529785, 'Adj Close': 5037.529785, 'Volume': 2088100000.0, 'CloseUSD': 5037.529785}\n",
      "Saved stock_market_15.json to S3\n",
      "Message 16: {'Index': 'GDAXI', 'Date': '1999-10-08', 'Open': 5409.439941, 'High': 5439.529785, 'Low': 5364.350098, 'Close': 5419.259766, 'Adj Close': 5419.259766, 'Volume': 0.0, 'CloseUSD': 6611.49691452}\n",
      "Saved stock_market_16.json to S3\n",
      "Message 17: {'Index': 'NSEI', 'Date': '2020-02-12', 'Open': 12151.0, 'High': 12231.75, 'Low': 12144.29981, 'Close': 12201.2002, 'Adj Close': 12201.2002, 'Volume': 411700.0, 'CloseUSD': 122.012002}\n",
      "Saved stock_market_17.json to S3\n",
      "Message 18: {'Index': 'NSEI', 'Date': '2020-03-02', 'Open': 11387.34961, 'High': 11433.0, 'Low': 11036.25, 'Close': 11132.75, 'Adj Close': 11132.75, 'Volume': 680800.0, 'CloseUSD': 111.3275}\n",
      "Saved stock_market_18.json to S3\n",
      "Message 19: {'Index': '399001.SZ', 'Date': '2020-11-23', 'Open': 13871.70996, 'High': 14021.5, 'Low': 13795.91992, 'Close': 13955.28027, 'Adj Close': 13955.28027, 'Volume': 1795400.0, 'CloseUSD': 2232.8448432}\n",
      "Saved stock_market_19.json to S3\n",
      "Message 20: {'Index': 'SSMI', 'Date': '2019-03-01', 'Open': 9431.830078, 'High': 9456.040039, 'Low': 9401.55957, 'Close': 9412.019531, 'Adj Close': 9412.019531, 'Volume': 55549500.0, 'CloseUSD': 10447.34167941}\n",
      "Saved stock_market_20.json to S3\n",
      "Message 21: {'Index': 'HSI', 'Date': '2002-12-19', 'Open': 9544.900391, 'High': 9590.209961, 'Low': 9477.820313, 'Close': 9557.860352, 'Adj Close': 9557.860352, 'Volume': 263977400.0, 'CloseUSD': 1242.52184576}\n",
      "Saved stock_market_21.json to S3\n",
      "Message 22: {'Index': '000001.SS', 'Date': '2009-11-25', 'Open': 3214.814941, 'High': 3291.173096, 'Low': 3188.019043, 'Close': 3290.165039, 'Adj Close': 3290.165039, 'Volume': 189000.0, 'CloseUSD': 526.42640624}\n",
      "Saved stock_market_22.json to S3\n",
      "Message 23: {'Index': 'HSI', 'Date': '1989-01-06', 'Open': 2766.699951, 'High': 2766.699951, 'Low': 2766.699951, 'Close': 2766.699951, 'Adj Close': 2766.699951, 'Volume': 0.0, 'CloseUSD': 359.67099363}\n",
      "Saved stock_market_23.json to S3\n",
      "Message 24: {'Index': 'N225', 'Date': '2019-11-15', 'Open': 23160.5293, 'High': 23340.76953, 'Low': 23121.58984, 'Close': 23303.32031, 'Adj Close': 23303.32031, 'Volume': 72200000.0, 'CloseUSD': 233.0332031}\n",
      "Saved stock_market_24.json to S3\n",
      "Message 25: {'Index': 'HSI', 'Date': '2017-09-27', 'Open': 27503.05078, 'High': 27673.40039, 'Low': 27503.05078, 'Close': 27642.42969, 'Adj Close': 27642.42969, 'Volume': 1812425000.0, 'CloseUSD': 3593.5158597000004}\n",
      "Saved stock_market_25.json to S3\n",
      "Message 26: {'Index': 'TWII', 'Date': '1998-05-14', 'Open': 8202.099609, 'High': 8256.959961, 'Low': 8193.5, 'Close': 8193.5, 'Adj Close': 8193.467773, 'Volume': 0.0, 'CloseUSD': 327.74}\n",
      "Saved stock_market_26.json to S3\n",
      "Message 27: {'Index': 'HSI', 'Date': '2012-02-22', 'Open': 21339.01953, 'High': 21569.74023, 'Low': 21302.18945, 'Close': 21549.2793, 'Adj Close': 21549.2793, 'Volume': 1377263800.0, 'CloseUSD': 2801.406309}\n",
      "Saved stock_market_27.json to S3\n",
      "Message 28: {'Index': 'N100', 'Date': '2004-11-19', 'Open': 653.530029, 'High': 656.340027, 'Low': 648.789978, 'Close': 649.75, 'Adj Close': 649.75, 'Volume': 0.0, 'CloseUSD': 792.6949999999999}\n",
      "Saved stock_market_28.json to S3\n",
      "Message 29: {'Index': 'N100', 'Date': '2012-03-22', 'Open': 655.059998, 'High': 655.059998, 'Low': 646.030029, 'Close': 648.219971, 'Adj Close': 648.219971, 'Volume': 281669600.0, 'CloseUSD': 790.82836462}\n",
      "Saved stock_market_29.json to S3\n",
      "Message 30: {'Index': 'N225', 'Date': '2014-01-15', 'Open': 15649.07031, 'High': 15808.73047, 'Low': 15636.57031, 'Close': 15808.73047, 'Adj Close': 15808.73047, 'Volume': 185800000.0, 'CloseUSD': 158.0873047}\n",
      "Saved stock_market_30.json to S3\n"
     ]
    }
   ],
   "source": [
    "import json\n",
    "\n",
    "for count, i in enumerate(consumer):\n",
    "    # Debug: Print received Kafka message\n",
    "    print(f\"Message {count}: {i.value}\")\n",
    "\n",
    "    # Save the message to S3\n",
    "    with s3.open(f\"s3://sn-kafka-stock-market-project/stock_market_{count}.json\", 'w') as file:\n",
    "        json.dump(i.value, file)\n",
    "\n",
    "    # Additional Debugging: Show confirmation\n",
    "    print(f\"Saved stock_market_{count}.json to S3\")\n"
   ]
  }
 ],
 "metadata": {
  "kernelspec": {
   "display_name": "Python 3 (ipykernel)",
   "language": "python",
   "name": "python3"
  },
  "language_info": {
   "codemirror_mode": {
    "name": "ipython",
    "version": 3
   },
   "file_extension": ".py",
   "mimetype": "text/x-python",
   "name": "python",
   "nbconvert_exporter": "python",
   "pygments_lexer": "ipython3",
   "version": "3.9.13"
  }
 },
 "nbformat": 4,
 "nbformat_minor": 5
}
