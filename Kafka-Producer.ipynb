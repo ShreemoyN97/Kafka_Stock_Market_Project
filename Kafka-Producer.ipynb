{
 "cells": [
  {
   "cell_type": "code",
   "execution_count": null,
   "id": "671f1fb2",
   "metadata": {},
   "outputs": [
    {
     "name": "stdout",
     "output_type": "stream",
     "text": [
      "Collecting kafka-python\n",
      "  Downloading kafka_python-2.0.6-py2.py3-none-any.whl (252 kB)\n",
      "\u001b[2K     \u001b[90m━━━━━━━━━━━━━━━━━━━━━━━━━━━━━━━━━━━━━━━\u001b[0m \u001b[32m252.1/252.1 kB\u001b[0m \u001b[31m5.4 MB/s\u001b[0m eta \u001b[36m0:00:00\u001b[0ma \u001b[36m0:00:01\u001b[0m\n",
      "\u001b[?25hInstalling collected packages: kafka-python\n",
      "Successfully installed kafka-python-2.0.6\n",
      "Note: you may need to restart the kernel to use updated packages.\n"
     ]
    }
   ],
   "source": [
    "pip install kafka-python"
   ]
  },
  {
   "cell_type": "code",
   "execution_count": 23,
   "id": "7cc65552",
   "metadata": {},
   "outputs": [],
   "source": [
    "# Import necessary libraries\n",
    "import pandas as pd\n",
    "from kafka import KafkaProducer\n",
    "# Initialize Kafka Producer with required configurations\n",
    "from time import sleep\n",
    "from json import dumps\n",
    "# Loop to send messages to the Kafka topic\n",
    "import json"
   ]
  },
  {
   "cell_type": "code",
   "execution_count": 3,
   "id": "bf5865d0",
   "metadata": {},
   "outputs": [],
   "source": [
    "# Import necessary libraries\n",
    "producer = KafkaProducer(bootstrap_servers=['<public ip address>'], #change ip here\n",
    "                         value_serializer=lambda x: \n",
    "# Initialize Kafka Producer with required configurations\n",
    "                         dumps(x).encode('utf-8'))"
   ]
  },
  {
   "cell_type": "code",
   "execution_count": 32,
   "id": "036c0b65",
   "metadata": {},
   "outputs": [
    {
     "data": {
      "text/plain": [
       "<kafka.producer.future.FutureRecordMetadata at 0x7fa48af079a0>"
      ]
     },
     "execution_count": 32,
     "metadata": {},
     "output_type": "execute_result"
    }
   ],
   "source": [
    "# Import necessary libraries\n",
    "producer.send('sn_demo_test', value={'name':'Shreemoy Nanda'}) # Topic Name: sn_demo_test replace with your topic name"
   ]
  },
  {
   "cell_type": "code",
   "execution_count": null,
   "id": "6dfcf482",
   "metadata": {},
   "outputs": [],
   "source": [
    "# read dataframe from csv file\n",
    "df = pd.read_csv(\"<data file path>\")"
   ]
  },
  {
   "cell_type": "code",
   "execution_count": null,
   "id": "272a9e30",
   "metadata": {},
   "outputs": [
    {
     "data": {
      "text/html": [
       "<div>\n",
       "<style scoped>\n",
       "    .dataframe tbody tr th:only-of-type {\n",
       "        vertical-align: middle;\n",
       "    }\n",
       "\n",
       "    .dataframe tbody tr th {\n",
       "        vertical-align: top;\n",
       "    }\n",
       "\n",
       "    .dataframe thead th {\n",
       "        text-align: right;\n",
       "    }\n",
       "</style>\n",
       "<table border=\"1\" class=\"dataframe\">\n",
       "  <thead>\n",
       "    <tr style=\"text-align: right;\">\n",
       "      <th></th>\n",
       "      <th>Index</th>\n",
       "      <th>Date</th>\n",
       "      <th>Open</th>\n",
       "      <th>High</th>\n",
       "      <th>Low</th>\n",
       "      <th>Close</th>\n",
       "      <th>Adj Close</th>\n",
       "      <th>Volume</th>\n",
       "      <th>CloseUSD</th>\n",
       "    </tr>\n",
       "  </thead>\n",
       "  <tbody>\n",
       "    <tr>\n",
       "      <th>0</th>\n",
       "      <td>HSI</td>\n",
       "      <td>1986-12-31</td>\n",
       "      <td>2568.300049</td>\n",
       "      <td>2568.300049</td>\n",
       "      <td>2568.300049</td>\n",
       "      <td>2568.300049</td>\n",
       "      <td>2568.300049</td>\n",
       "      <td>0.0</td>\n",
       "      <td>333.879006</td>\n",
       "    </tr>\n",
       "    <tr>\n",
       "      <th>1</th>\n",
       "      <td>HSI</td>\n",
       "      <td>1987-01-02</td>\n",
       "      <td>2540.100098</td>\n",
       "      <td>2540.100098</td>\n",
       "      <td>2540.100098</td>\n",
       "      <td>2540.100098</td>\n",
       "      <td>2540.100098</td>\n",
       "      <td>0.0</td>\n",
       "      <td>330.213013</td>\n",
       "    </tr>\n",
       "    <tr>\n",
       "      <th>2</th>\n",
       "      <td>HSI</td>\n",
       "      <td>1987-01-05</td>\n",
       "      <td>2552.399902</td>\n",
       "      <td>2552.399902</td>\n",
       "      <td>2552.399902</td>\n",
       "      <td>2552.399902</td>\n",
       "      <td>2552.399902</td>\n",
       "      <td>0.0</td>\n",
       "      <td>331.811987</td>\n",
       "    </tr>\n",
       "    <tr>\n",
       "      <th>3</th>\n",
       "      <td>HSI</td>\n",
       "      <td>1987-01-06</td>\n",
       "      <td>2583.899902</td>\n",
       "      <td>2583.899902</td>\n",
       "      <td>2583.899902</td>\n",
       "      <td>2583.899902</td>\n",
       "      <td>2583.899902</td>\n",
       "      <td>0.0</td>\n",
       "      <td>335.906987</td>\n",
       "    </tr>\n",
       "    <tr>\n",
       "      <th>4</th>\n",
       "      <td>HSI</td>\n",
       "      <td>1987-01-07</td>\n",
       "      <td>2607.100098</td>\n",
       "      <td>2607.100098</td>\n",
       "      <td>2607.100098</td>\n",
       "      <td>2607.100098</td>\n",
       "      <td>2607.100098</td>\n",
       "      <td>0.0</td>\n",
       "      <td>338.923013</td>\n",
       "    </tr>\n",
       "  </tbody>\n",
       "</table>\n",
       "</div>"
      ],
      "text/plain": [
       "  Index        Date         Open         High          Low        Close  \\\n",
       "0   HSI  1986-12-31  2568.300049  2568.300049  2568.300049  2568.300049   \n",
       "1   HSI  1987-01-02  2540.100098  2540.100098  2540.100098  2540.100098   \n",
       "2   HSI  1987-01-05  2552.399902  2552.399902  2552.399902  2552.399902   \n",
       "3   HSI  1987-01-06  2583.899902  2583.899902  2583.899902  2583.899902   \n",
       "4   HSI  1987-01-07  2607.100098  2607.100098  2607.100098  2607.100098   \n",
       "\n",
       "     Adj Close  Volume    CloseUSD  \n",
       "0  2568.300049     0.0  333.879006  \n",
       "1  2540.100098     0.0  330.213013  \n",
       "2  2552.399902     0.0  331.811987  \n",
       "3  2583.899902     0.0  335.906987  \n",
       "4  2607.100098     0.0  338.923013  "
      ]
     },
     "execution_count": 14,
     "metadata": {},
     "output_type": "execute_result"
    }
   ],
   "source": [
    "# visualizing the dataframe\n",
    "df.head()"
   ]
  },
  {
   "cell_type": "code",
   "execution_count": null,
   "id": "ab01c8a4",
   "metadata": {},
   "outputs": [
    {
     "data": {
      "text/plain": [
       "{'Index': '000001.SS',\n",
       " 'Date': '1998-10-28',\n",
       " 'Open': 1218.495972,\n",
       " 'High': 1226.113037,\n",
       " 'Low': 1217.232056,\n",
       " 'Close': 1225.928955,\n",
       " 'Adj Close': 1225.928955,\n",
       " 'Volume': 0.0,\n",
       " 'CloseUSD': 196.14863280000003}"
      ]
     },
     "execution_count": 15,
     "metadata": {},
     "output_type": "execute_result"
    }
   ],
   "source": [
    "# converting the dataframe to dictionary and then to json (orient = \"records\" is used to convert dictionary to json)\n",
    "# sampling helps in selecting a random row from the dataframe. Simulating the real time data\n",
    "df.sample(1).to_dict(orient = \"records\")[0]"
   ]
  },
  {
   "cell_type": "code",
   "execution_count": null,
   "id": "75ce75b1",
   "metadata": {},
   "outputs": [
    {
     "name": "stdout",
     "output_type": "stream",
     "text": [
      "{'Index': 'NYA', 'Date': '1966-03-23', 'Open': 511.980011, 'High': 511.980011, 'Low': 511.980011, 'Close': 511.980011, 'Adj Close': 511.980011, 'Volume': 0.0, 'CloseUSD': 511.980011}\n",
      "{'Index': 'HSI', 'Date': '2002-04-24', 'Open': 11362.65039, 'High': 11417.46973, 'Low': 11305.65039, 'Close': 11396.57031, 'Adj Close': 11396.57031, 'Volume': 301563200.0, 'CloseUSD': 1481.5541403}\n",
      "{'Index': 'N225', 'Date': '2020-08-05', 'Open': 22479.7207, 'High': 22554.19922, 'Low': 22356.25, 'Close': 22514.84961, 'Adj Close': 22514.84961, 'Volume': 74000000.0, 'CloseUSD': 225.1484961}\n",
      "{'Index': 'N225', 'Date': '2018-11-16', 'Open': 21804.90039, 'High': 21873.74023, 'Low': 21663.99023, 'Close': 21680.33984, 'Adj Close': 21680.33984, 'Volume': 74900000.0, 'CloseUSD': 216.8033984}\n",
      "{'Index': 'N100', 'Date': '2007-10-08', 'Open': 1036.23999, 'High': 1037.869995, 'Low': 1034.329956, 'Close': 1034.719971, 'Adj Close': 1034.719971, 'Volume': 242408400.0, 'CloseUSD': 1262.35836462}\n",
      "{'Index': 'TWII', 'Date': '2019-10-23', 'Open': 11266.17969, 'High': 11281.12012, 'Low': 11209.09961, 'Close': 11239.66992, 'Adj Close': 11239.66992, 'Volume': 2304700.0, 'CloseUSD': 449.5867968}\n",
      "{'Index': 'N225', 'Date': '2002-10-04', 'Open': 8899.769531, 'High': 9027.549805, 'Low': 8860.650391, 'Close': 9027.549805, 'Adj Close': 9027.549805, 'Volume': 62100000.0, 'CloseUSD': 90.27549805}\n",
      "{'Index': '399001.SZ', 'Date': '2006-07-03', 'Open': 4302.200195, 'High': 4398.379883, 'Low': 4302.200195, 'Close': 4398.379883, 'Adj Close': 4398.330566, 'Volume': 57700.0, 'CloseUSD': 703.74078128}\n",
      "{'Index': 'HSI', 'Date': '2008-12-10', 'Open': 14946.0, 'High': 15578.95996, 'Low': 14946.0, 'Close': 15577.74023, 'Adj Close': 15577.74023, 'Volume': 2684204000.0, 'CloseUSD': 2025.1062299}\n",
      "{'Index': 'N225', 'Date': '1967-10-16', 'Open': 1372.98999, 'High': 1372.98999, 'Low': 1372.98999, 'Close': 1372.98999, 'Adj Close': 1372.98999, 'Volume': 0.0, 'CloseUSD': 13.7298999}\n",
      "{'Index': 'N225', 'Date': '1966-07-27', 'Open': 1486.01001, 'High': 1486.01001, 'Low': 1486.01001, 'Close': 1486.01001, 'Adj Close': 1486.01001, 'Volume': 0.0, 'CloseUSD': 14.8601001}\n",
      "{'Index': 'HSI', 'Date': '2020-03-31', 'Open': 23613.26953, 'High': 23627.5293, 'Low': 23238.03906, 'Close': 23603.48047, 'Adj Close': 23603.48047, 'Volume': 2876326600.0, 'CloseUSD': 3068.4524611}\n",
      "{'Index': 'HSI', 'Date': '1989-07-12', 'Open': 2477.5, 'High': 2477.5, 'Low': 2477.5, 'Close': 2477.5, 'Adj Close': 2477.5, 'Volume': 0.0, 'CloseUSD': 322.075}\n",
      "{'Index': 'IXIC', 'Date': '2013-09-17', 'Open': 3725.310059, 'High': 3747.080078, 'Low': 3724.26001, 'Close': 3745.699951, 'Adj Close': 3745.699951, 'Volume': 1338800000.0, 'CloseUSD': 3745.699951}\n",
      "{'Index': 'IXIC', 'Date': '2015-12-03', 'Open': 5143.160156, 'High': 5144.600098, 'Low': 5011.720215, 'Close': 5037.529785, 'Adj Close': 5037.529785, 'Volume': 2088100000.0, 'CloseUSD': 5037.529785}\n",
      "{'Index': 'GDAXI', 'Date': '1999-10-08', 'Open': 5409.439941, 'High': 5439.529785, 'Low': 5364.350098, 'Close': 5419.259766, 'Adj Close': 5419.259766, 'Volume': 0.0, 'CloseUSD': 6611.49691452}\n",
      "{'Index': 'NSEI', 'Date': '2020-02-12', 'Open': 12151.0, 'High': 12231.75, 'Low': 12144.29981, 'Close': 12201.2002, 'Adj Close': 12201.2002, 'Volume': 411700.0, 'CloseUSD': 122.012002}\n",
      "{'Index': 'NSEI', 'Date': '2020-03-02', 'Open': 11387.34961, 'High': 11433.0, 'Low': 11036.25, 'Close': 11132.75, 'Adj Close': 11132.75, 'Volume': 680800.0, 'CloseUSD': 111.3275}\n",
      "{'Index': '399001.SZ', 'Date': '2020-11-23', 'Open': 13871.70996, 'High': 14021.5, 'Low': 13795.91992, 'Close': 13955.28027, 'Adj Close': 13955.28027, 'Volume': 1795400.0, 'CloseUSD': 2232.8448432}\n",
      "{'Index': 'SSMI', 'Date': '2019-03-01', 'Open': 9431.830078, 'High': 9456.040039, 'Low': 9401.55957, 'Close': 9412.019531, 'Adj Close': 9412.019531, 'Volume': 55549500.0, 'CloseUSD': 10447.34167941}\n",
      "{'Index': 'HSI', 'Date': '2002-12-19', 'Open': 9544.900391, 'High': 9590.209961, 'Low': 9477.820313, 'Close': 9557.860352, 'Adj Close': 9557.860352, 'Volume': 263977400.0, 'CloseUSD': 1242.52184576}\n",
      "{'Index': '000001.SS', 'Date': '2009-11-25', 'Open': 3214.814941, 'High': 3291.173096, 'Low': 3188.019043, 'Close': 3290.165039, 'Adj Close': 3290.165039, 'Volume': 189000.0, 'CloseUSD': 526.42640624}\n",
      "{'Index': 'HSI', 'Date': '1989-01-06', 'Open': 2766.699951, 'High': 2766.699951, 'Low': 2766.699951, 'Close': 2766.699951, 'Adj Close': 2766.699951, 'Volume': 0.0, 'CloseUSD': 359.67099363}\n",
      "{'Index': 'N225', 'Date': '2019-11-15', 'Open': 23160.5293, 'High': 23340.76953, 'Low': 23121.58984, 'Close': 23303.32031, 'Adj Close': 23303.32031, 'Volume': 72200000.0, 'CloseUSD': 233.0332031}\n",
      "{'Index': 'HSI', 'Date': '2017-09-27', 'Open': 27503.05078, 'High': 27673.40039, 'Low': 27503.05078, 'Close': 27642.42969, 'Adj Close': 27642.42969, 'Volume': 1812425000.0, 'CloseUSD': 3593.5158597000004}\n",
      "{'Index': 'TWII', 'Date': '1998-05-14', 'Open': 8202.099609, 'High': 8256.959961, 'Low': 8193.5, 'Close': 8193.5, 'Adj Close': 8193.467773, 'Volume': 0.0, 'CloseUSD': 327.74}\n",
      "{'Index': 'HSI', 'Date': '2012-02-22', 'Open': 21339.01953, 'High': 21569.74023, 'Low': 21302.18945, 'Close': 21549.2793, 'Adj Close': 21549.2793, 'Volume': 1377263800.0, 'CloseUSD': 2801.406309}\n",
      "{'Index': 'N100', 'Date': '2004-11-19', 'Open': 653.530029, 'High': 656.340027, 'Low': 648.789978, 'Close': 649.75, 'Adj Close': 649.75, 'Volume': 0.0, 'CloseUSD': 792.6949999999999}\n",
      "{'Index': 'N100', 'Date': '2012-03-22', 'Open': 655.059998, 'High': 655.059998, 'Low': 646.030029, 'Close': 648.219971, 'Adj Close': 648.219971, 'Volume': 281669600.0, 'CloseUSD': 790.82836462}\n",
      "{'Index': 'N225', 'Date': '2014-01-15', 'Open': 15649.07031, 'High': 15808.73047, 'Low': 15636.57031, 'Close': 15808.73047, 'Adj Close': 15808.73047, 'Volume': 185800000.0, 'CloseUSD': 158.0873047}\n",
      "Stopped after 8 seconds\n"
     ]
    }
   ],
   "source": [
    "# This code will send the data to the Kafka topic for 60 seconds\n",
    "# Thus not overloading the Kafka topic with data\n",
    "\n",
    "import time\n",
    "\n",
    "# Initialize Kafka Producer with required configurations\n",
    "start_time = time.time()  # Record start time\n",
    "\n",
    "# Loop to send messages to the Kafka topic\n",
    "while time.time() - start_time < 60:  # Run for 60 seconds\n",
    "    dict_stock = df.sample(1).to_dict(orient=\"records\")[0]\n",
    "    producer.send('<Topic Name>', value=dict_stock) # replace topic name\n",
    "    print(dict_stock)\n",
    "    sleep(1)  # Sleep for 1 second\n",
    "\n",
    "print(\"Stopped after 60 seconds\")"
   ]
  },
  {
   "cell_type": "code",
   "execution_count": null,
   "id": "00c6916d",
   "metadata": {},
   "outputs": [],
   "source": [
    "producer.flush() #clear data from kafka server\n"
   ]
  }
 ],
 "metadata": {
  "kernelspec": {
   "display_name": "Python 3 (ipykernel)",
   "language": "python",
   "name": "python3"
  },
  "language_info": {
   "codemirror_mode": {
    "name": "ipython",
    "version": 3
   },
   "file_extension": ".py",
   "mimetype": "text/x-python",
   "name": "python",
   "nbconvert_exporter": "python",
   "pygments_lexer": "ipython3",
   "version": "3.9.13"
  }
 },
 "nbformat": 4,
 "nbformat_minor": 5
}
